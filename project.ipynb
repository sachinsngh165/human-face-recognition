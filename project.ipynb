{
 "cells": [
  {
   "cell_type": "code",
   "execution_count": 2,
   "metadata": {
    "collapsed": true
   },
   "outputs": [],
   "source": [
    "import numpy as np\n",
    "import cv2\n",
    "from matplotlib import pyplot as plt\n",
    "# %matplotllib inline\n",
    "import os"
   ]
  },
  {
   "cell_type": "code",
   "execution_count": 3,
   "metadata": {
    "scrolled": true
   },
   "outputs": [
    {
     "name": "stdout",
     "output_type": "stream",
     "text": [
      "{'commit_hash': u'5c9c918',\n",
      " 'commit_source': 'installation',\n",
      " 'default_encoding': 'UTF-8',\n",
      " 'ipython_path': '/Library/Frameworks/Python.framework/Versions/2.7/lib/python2.7/site-packages/IPython',\n",
      " 'ipython_version': '5.1.0',\n",
      " 'os_name': 'posix',\n",
      " 'platform': 'Darwin-16.3.0-x86_64-i386-64bit',\n",
      " 'sys_executable': '/Library/Frameworks/Python.framework/Versions/2.7/Resources/Python.app/Contents/MacOS/Python',\n",
      " 'sys_platform': 'darwin',\n",
      " 'sys_version': '2.7.12 (v2.7.12:d33e0cf91556, Jun 26 2016, 12:10:39) \\n[GCC 4.2.1 (Apple Inc. build 5666) (dot 3)]'}\n"
     ]
    }
   ],
   "source": [
    "import IPython\n",
    "print IPython.sys_info()"
   ]
  },
  {
   "cell_type": "code",
   "execution_count": 5,
   "metadata": {},
   "outputs": [
    {
     "name": "stdout",
     "output_type": "stream",
     "text": [
      "['./data/Aditya/im01.jpg', './data/Aditya/im02.jpg', './data/Aditya/im03.jpg', './data/Aditya/im04.jpg', './data/Aditya/im05.jpg', './data/Mudit/five.jpg', './data/Mudit/four.jpg', './data/Mudit/one.jpg', './data/Mudit/three.jpg', './data/Mudit/two.jpg', './data/sachin/sachin1.jpg', './data/sachin/sachin2.jpg', './data/sachin/sachin3.jpg', './data/sachin/sachin4.jpg', './data/sachin/sachin5.jpg', './data/shivam/im01.jpg', './data/shivam/im02.jpg', './data/shivam/im03.jpg', './data/shivam/im04.jpg', './data/shivam/im05.jpg']\n",
      "['Aditya', 'Aditya', 'Aditya', 'Aditya', 'Aditya', 'Mudit', 'Mudit', 'Mudit', 'Mudit', 'Mudit', 'sachin', 'sachin', 'sachin', 'sachin', 'sachin', 'shivam', 'shivam', 'shivam', 'shivam', 'shivam']\n"
     ]
    }
   ],
   "source": [
    "files = os.listdir('./data/')\n",
    "# print files\n",
    "faces_paths = []\n",
    "labels= []\n",
    "for f in files:\n",
    "    if f == '.DS_Store':\n",
    "        continue\n",
    "    ims = os.listdir('./data/' + f )\n",
    "#     print f,ims\n",
    "    for px in ims:\n",
    "        if px == '.DS_Store':\n",
    "            continue\n",
    "        faces_paths.append('./data/' + f + '/' + px)\n",
    "        labels.append(f)\n",
    "        \n",
    "print faces_paths\n",
    "print labels"
   ]
  },
  {
   "cell_type": "code",
   "execution_count": 6,
   "metadata": {},
   "outputs": [
    {
     "name": "stdout",
     "output_type": "stream",
     "text": [
      "20\n"
     ]
    }
   ],
   "source": [
    "imgs = []\n",
    "\n",
    "for fx in faces_paths:\n",
    "    im = cv2.imread(fx)\n",
    "    im = cv2.cvtColor(im,cv2.COLOR_BGR2RGB)\n",
    "    imgs.append(im)\n",
    "    \n",
    "print len(imgs)"
   ]
  },
  {
   "cell_type": "code",
   "execution_count": 7,
   "metadata": {
    "collapsed": true
   },
   "outputs": [],
   "source": [
    "# for ix in range(len(imgs)):\n",
    "# #     print ix.shape\n",
    "#     plt.figure(ix)\n",
    "# #     im = cv2.cvtColor(imgs[ix],cv2.COLOR_BGR2RGB)\n",
    "#     plt.imshow(im)\n",
    "    \n",
    "# # plt.show()"
   ]
  },
  {
   "cell_type": "code",
   "execution_count": 16,
   "metadata": {
    "collapsed": true
   },
   "outputs": [],
   "source": [
    "all_faces = []\n",
    "\n",
    "# create a list of resized images \n",
    "for ix in range(len(imgs)):\n",
    "    im = imgs[ix][220:500,550:720,:]   \n",
    "    img = cv2.resize(im,(100,100))\n",
    "    img = cv2.cvtColor(img,cv2.COLOR_RGB2GRAY)\n",
    "    all_faces.append(img)\n",
    "\n",
    "\n",
    "    \n"
   ]
  },
  {
   "cell_type": "code",
   "execution_count": 17,
   "metadata": {},
   "outputs": [
    {
     "name": "stdout",
     "output_type": "stream",
     "text": [
      "(20, 100, 100)\n"
     ]
    }
   ],
   "source": [
    "# convert to numpy\n",
    "all_faces = np.asarray(all_faces)\n",
    "print all_faces.shape\n",
    "lab = np.asarray(labels)\n",
    "\n",
    "# test_face = all_faces[14]\n",
    "# test_label = all_faces[14]\n",
    "\n",
    "# train_faces = all_faces[:19]"
   ]
  },
  {
   "cell_type": "code",
   "execution_count": 18,
   "metadata": {
    "collapsed": true
   },
   "outputs": [],
   "source": [
    "\n",
    "np.save('./data/my_face_labels',lab)\n",
    "np.save('./data/my_face_data',all_faces)\n"
   ]
  },
  {
   "cell_type": "code",
   "execution_count": 99,
   "metadata": {
    "collapsed": true
   },
   "outputs": [],
   "source": [
    "# def dist(x1,x2):\n",
    "#     return np.sqrt(((x1-x2)**2).sum())\n",
    "\n",
    "\n",
    "# def knn(x_train,y_train,x,k=7):\n",
    "#     vals = []\n",
    "#     for ix in range(x_train.shape[0]):\n",
    "#         temp = [dist(x_train[ix],x),y_train[ix]]\n",
    "#         vals.append(temp)\n",
    "    \n",
    "# # sort all the distances from all the neighbours\n",
    "#     sorted_dis = sorted(vals,key=lambda c:c[0])\n",
    "# #     take only first k values and convert list to ndarray\n",
    "#     sorted_dis = np.asarray(sorted_dis[:k])\n",
    "# #     count the occurence of each k nearest neighbours\n",
    "#     occr = np.unique(sorted_dis[:,1],return_counts=True)\n",
    "#     rest = occr[1].argmax()\n",
    "#     return occr,rest\n"
   ]
  },
  {
   "cell_type": "code",
   "execution_count": 100,
   "metadata": {},
   "outputs": [
    {
     "name": "stdout",
     "output_type": "stream",
     "text": [
      "sachin\n"
     ]
    }
   ],
   "source": [
    "# res = knn(train_faces,lab,test_face,k=3)\n",
    "# pred_arr = res[0]\n",
    "# index = res[1]\n",
    "    \n",
    "# print pred_arr[0][index]\n",
    "# plt.imshow()"
   ]
  },
  {
   "cell_type": "code",
   "execution_count": null,
   "metadata": {
    "collapsed": true
   },
   "outputs": [],
   "source": []
  }
 ],
 "metadata": {
  "kernelspec": {
   "display_name": "Python 2",
   "language": "python",
   "name": "python2"
  },
  "language_info": {
   "codemirror_mode": {
    "name": "ipython",
    "version": 2
   },
   "file_extension": ".py",
   "mimetype": "text/x-python",
   "name": "python",
   "nbconvert_exporter": "python",
   "pygments_lexer": "ipython2",
   "version": "2.7.13"
  }
 },
 "nbformat": 4,
 "nbformat_minor": 2
}
